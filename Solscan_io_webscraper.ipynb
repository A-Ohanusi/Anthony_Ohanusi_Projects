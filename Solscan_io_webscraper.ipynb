{
  "nbformat": 4,
  "nbformat_minor": 0,
  "metadata": {
    "colab": {
      "provenance": [],
      "authorship_tag": "ABX9TyOuYfpxwvFvLtYUkuw5hZLl",
      "include_colab_link": true
    },
    "kernelspec": {
      "name": "python3",
      "display_name": "Python 3"
    },
    "language_info": {
      "name": "python"
    }
  },
  "cells": [
    {
      "cell_type": "markdown",
      "metadata": {
        "id": "view-in-github",
        "colab_type": "text"
      },
      "source": [
        "<a href=\"https://colab.research.google.com/github/A-Ohanusi/Anthony_Ohanusi_Projects/blob/main/Solscan_io_webscraper.ipynb\" target=\"_parent\"><img src=\"https://colab.research.google.com/assets/colab-badge.svg\" alt=\"Open In Colab\"/></a>"
      ]
    },
    {
      "cell_type": "code",
      "source": [
        "import requests\n",
        "\n",
        "def get_wallet_transactions(wallet_address: str, limit: int = 10) -> list:\n",
        "  url = f\"https://public-api.solscan.io/account/transactions?account={wallet_address}&limit={limit}\"\n",
        "\n",
        "\n",
        "  headers = {'accept': 'application/json' ,\n",
        "             'User-Agent': 'Mozilla/5.0 '}\n",
        "\n",
        "\n",
        "  try:\n",
        "    response = requests.get(url, headers=headers)\n",
        "    response.raise_for_status()\n",
        "    data = response.json()\n",
        "    return data\n",
        "  except Exception as e:\n",
        "    print(f\"Error: {e}\")\n",
        "    return []\n",
        "\n",
        "\n",
        "wallet = input('Enter Solana wallet address: ')\n",
        "txns = get_wallet_transactions(wallet)\n",
        "\n",
        "for txn in txns:\n",
        "    print(f\"Signature: {txn['txHash']}\")\n",
        "    print(f\"Slot: {txn['slot']}\")\n",
        "    print(f\"Block Time: {txn['blockTime']}\")\n",
        "    print(f\"Status: {txn['status']}\")\n",
        "    print(\"=\" * 40)\n",
        "\n"
      ],
      "metadata": {
        "id": "Q2mNjAd8GM5K",
        "colab": {
          "base_uri": "https://localhost:8080/"
        },
        "outputId": "16c4e401-c3e9-49ed-8908-676b9c8d29d3"
      },
      "execution_count": null,
      "outputs": [
        {
          "output_type": "stream",
          "name": "stdout",
          "text": [
            "Enter Solana wallet address: GbwwRVEmuGbzCH2mTBcBef2zXwpyvZ86XvPfrosAM4Ma\n",
            "Error: 404 Client Error: Not Found for url: https://public-api.solscan.io/account/transactions?account=GbwwRVEmuGbzCH2mTBcBef2zXwpyvZ86XvPfrosAM4Ma&limit=10\n"
          ]
        }
      ]
    }
  ]
}