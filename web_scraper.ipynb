{
  "nbformat": 4,
  "nbformat_minor": 0,
  "metadata": {
    "colab": {
      "provenance": [],
      "authorship_tag": "ABX9TyOSqv1bmwECJi33UseyG+FK",
      "include_colab_link": true
    },
    "kernelspec": {
      "name": "python3",
      "display_name": "Python 3"
    },
    "language_info": {
      "name": "python"
    }
  },
  "cells": [
    {
      "cell_type": "markdown",
      "metadata": {
        "id": "view-in-github",
        "colab_type": "text"
      },
      "source": [
        "<a href=\"https://colab.research.google.com/github/A-Ohanusi/Anthony_Ohanusi_Projects/blob/main/web_scraper.ipynb\" target=\"_parent\"><img src=\"https://colab.research.google.com/assets/colab-badge.svg\" alt=\"Open In Colab\"/></a>"
      ]
    },
    {
      "cell_type": "code",
      "execution_count": null,
      "metadata": {
        "colab": {
          "base_uri": "https://localhost:8080/"
        },
        "id": "9hFRg9nndull",
        "outputId": "29a60735-51c7-43f8-9e90-a5695ade0e1a"
      },
      "outputs": [
        {
          "output_type": "stream",
          "name": "stdout",
          "text": [
            "Requirement already satisfied: requests in /usr/local/lib/python3.11/dist-packages (2.32.3)\n",
            "Requirement already satisfied: beautifulsoup4 in /usr/local/lib/python3.11/dist-packages (4.13.4)\n",
            "Requirement already satisfied: lxml in /usr/local/lib/python3.11/dist-packages (5.4.0)\n",
            "Requirement already satisfied: charset-normalizer<4,>=2 in /usr/local/lib/python3.11/dist-packages (from requests) (3.4.2)\n",
            "Requirement already satisfied: idna<4,>=2.5 in /usr/local/lib/python3.11/dist-packages (from requests) (3.10)\n",
            "Requirement already satisfied: urllib3<3,>=1.21.1 in /usr/local/lib/python3.11/dist-packages (from requests) (2.4.0)\n",
            "Requirement already satisfied: certifi>=2017.4.17 in /usr/local/lib/python3.11/dist-packages (from requests) (2025.6.15)\n",
            "Requirement already satisfied: soupsieve>1.2 in /usr/local/lib/python3.11/dist-packages (from beautifulsoup4) (2.7)\n",
            "Requirement already satisfied: typing-extensions>=4.0.0 in /usr/local/lib/python3.11/dist-packages (from beautifulsoup4) (4.14.1)\n"
          ]
        }
      ],
      "source": [
        "pip install requests beautifulsoup4 lxml"
      ]
    },
    {
      "cell_type": "code",
      "source": [
        "\n",
        "\n",
        "import requests\n",
        "from bs4 import BeautifulSoup\n",
        "\n",
        "headers = {\n",
        "  'User-Agent': 'Mozilla/5.0 (Windows NT 10.0; Win64; x64) AppleWebKit/537.36 (KHTML, like Gecko) Chrome/106.0.0.0 Safari/537.36',\n",
        "  'Accept-Language': 'en-US,en;q=0.5'\n",
        "}\n",
        "\n",
        "def get_product_details(product_url: str) -> dict:\n",
        "\n",
        "  product_details = {}\n",
        "\n",
        "\n",
        "  page = requests.get(product_url, headers=headers)\n",
        "  soup = BeautifulSoup(page.content, features=\"lxml\")\n",
        "  try:\n",
        "\n",
        "    title = soup.find(\n",
        "      'span', attrs={'id': 'productTitle'}).get_text().strip()\n",
        "    extracted_price = soup.find(\n",
        "      'span', attrs={'class': 'a-price'}).get_text().strip()\n",
        "    price = '$' + extracted_price.split('$')[1]\n",
        "\n",
        "\n",
        "    product_details['title'] = title\n",
        "    product_details['price'] = price\n",
        "\n",
        "\n",
        "    return product_details\n",
        "  except Exception as e:\n",
        "    print('Could not fetch product details')\n",
        "    print(f'Failed with exception: {e}')\n",
        "\n",
        "product_url = input('Enter product url: ')\n",
        "product_details = get_product_details(product_url)\n",
        "\n",
        "print(product_details)\n",
        "\n",
        "\n"
      ],
      "metadata": {
        "id": "U38qk4EfedCp"
      },
      "execution_count": null,
      "outputs": []
    }
  ]
}